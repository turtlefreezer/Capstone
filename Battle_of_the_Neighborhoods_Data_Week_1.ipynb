{
  "nbformat": 4,
  "nbformat_minor": 0,
  "metadata": {
    "colab": {
      "name": "Battle_of_the_Neighborhoods-Data-Week_1.ipynb",
      "provenance": [],
      "collapsed_sections": []
    },
    "kernelspec": {
      "name": "python3",
      "display_name": "Python 3"
    }
  },
  "cells": [
    {
      "cell_type": "markdown",
      "metadata": {
        "id": "nqg_lm7GY8rW",
        "colab_type": "text"
      },
      "source": [
        "**Data Section**"
      ]
    },
    {
      "cell_type": "markdown",
      "metadata": {
        "id": "5fdDHUZxY_ST",
        "colab_type": "text"
      },
      "source": [
        "To obtain the needed information for this project, we will need the following data:\n",
        "\n",
        "      1 Berlin Open Data - Number of visits to publicly funded cultural institutions in Berlin: http://www.berlin.de/sen/kultur/_assets/statistiken/besucherstatistik-2013-2014.xls\n",
        "      2 List of districts of Berlin: https://de.wikipedia.org/wiki/Verwaltungsgliederung_Berlins\n",
        "      3 Foursquare location data: https://foursquare.com/"
      ]
    },
    {
      "cell_type": "markdown",
      "metadata": {
        "id": "3BROwcjT1v9E",
        "colab_type": "text"
      },
      "source": [
        "The first data sheet will tell us, which theatre venues are much frequented. The list of districts will help us to locate the relevant neighborhood and to cluster the venues. Finally, the Foursquare location will help us to determine the overall number of theatres in the city and to find out, which location is the most appropriate in order to establish our new theatre."
      ]
    },
    {
      "cell_type": "code",
      "metadata": {
        "id": "ImU1-DKM7S2Q",
        "colab_type": "code",
        "colab": {
          "base_uri": "https://localhost:8080/",
          "height": 579
        },
        "outputId": "86447074-70e3-4531-9cc6-11ff4baade9c"
      },
      "source": [
        "from IPython.display import Image\n",
        "from IPython.core.display import HTML\n",
        "Image(url= \"https://drive.google.com/uc?id=16qROsqE75-ruXHvPGmIDGGOKKu0x4AA1\")"
      ],
      "execution_count": 4,
      "outputs": [
        {
          "output_type": "execute_result",
          "data": {
            "text/html": [
              "<img src=\"https://drive.google.com/uc?id=16qROsqE75-ruXHvPGmIDGGOKKu0x4AA1\"/>"
            ],
            "text/plain": [
              "<IPython.core.display.Image object>"
            ]
          },
          "metadata": {
            "tags": []
          },
          "execution_count": 4
        }
      ]
    }
  ]
}