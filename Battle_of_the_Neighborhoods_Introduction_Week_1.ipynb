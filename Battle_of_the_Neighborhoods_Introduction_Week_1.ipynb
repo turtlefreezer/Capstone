{
  "nbformat": 4,
  "nbformat_minor": 0,
  "metadata": {
    "colab": {
      "name": "Battle_of_the_Neighborhoods-Introduction-Week_1.ipynb",
      "provenance": [],
      "collapsed_sections": []
    },
    "kernelspec": {
      "name": "python3",
      "display_name": "Python 3"
    }
  },
  "cells": [
    {
      "cell_type": "markdown",
      "metadata": {
        "id": "-zdsvHjH-PXG",
        "colab_type": "text"
      },
      "source": [
        "## The Battle of the Neighborhoods - Week 1"
      ]
    },
    {
      "cell_type": "markdown",
      "metadata": {
        "id": "ZA5F9Q5J-VYv",
        "colab_type": "text"
      },
      "source": [
        "**Introduction/Business Problem:**"
      ]
    },
    {
      "cell_type": "markdown",
      "metadata": {
        "id": "jMJjiRRy-l73",
        "colab_type": "text"
      },
      "source": [
        "Berlin, the capital of Germany, was a divided city for more almost three decades. From 1961 to 1989 a wall separated the western from the eastern part, caused by a power play between the Soviet Union and the Western Allies. Over the course of these years, economic and cultural life developed in two different directions. While a large number of smaller shops and venues were established in West Berlin, the focus in the East was on restoring a rich cultural life for the broad masses. Today, thirty years after the fall of the Wall, the situation has certainly changed, but developments from the past still partly shape the face of this city.\n",
        "\n",
        "One basic assumption is that the theatre landscape, in particular, is still divided into two parts and thus there is still a high development potential for this, especially in the western parts of the city. Thus, it should be examined in which districts a significant underdevelopment in this cultural area exists and where there is a chance for theatres to settle."
      ]
    },
    {
      "cell_type": "markdown",
      "metadata": {
        "id": "mzoNabQOMWwk",
        "colab_type": "text"
      },
      "source": [
        "![Theatres in Berlin](https://drive.google.com/uc?id=1clR-RR0LNz5KpcrrGSj8bl_pdqayHoQw)"
      ]
    },
    {
      "cell_type": "markdown",
      "metadata": {
        "id": "AMzUrI5CM4Nr",
        "colab_type": "text"
      },
      "source": [
        "**Target Audience:**"
      ]
    },
    {
      "cell_type": "markdown",
      "metadata": {
        "id": "scP417PiM_gr",
        "colab_type": "text"
      },
      "source": [
        "The Berlin Theatre Company has appointed me to lead of the Data Science team. The objective is to locate and recommend to the management which neighborhood of Berlin will be best choice to start a theatre.\n",
        "This would interest anyone who wants to establish a new theatre in Berlin."
      ]
    },
    {
      "cell_type": "markdown",
      "metadata": {
        "id": "ZG-MBTTTNEzC",
        "colab_type": "text"
      },
      "source": [
        "**Success Criteria:**"
      ]
    },
    {
      "cell_type": "markdown",
      "metadata": {
        "id": "9UqaEh5JNFka",
        "colab_type": "text"
      },
      "source": [
        "The success criteria of the project will be a good recommendation of a district/neighborhood choice to the Berlin Theatre Company based on a lack of theatres in that location and high visitor numbers."
      ]
    }
  ]
}