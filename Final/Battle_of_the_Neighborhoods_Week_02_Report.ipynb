{
  "nbformat": 4,
  "nbformat_minor": 0,
  "metadata": {
    "colab": {
      "name": "Battle_of_the_Neighborhoods-Week_02-Report.ipynb",
      "provenance": [],
      "collapsed_sections": []
    },
    "kernelspec": {
      "name": "python3",
      "display_name": "Python 3"
    }
  },
  "cells": [
    {
      "cell_type": "markdown",
      "metadata": {
        "id": "j47OryGDemrO",
        "colab_type": "text"
      },
      "source": [
        "# Capstone Project - The Battle of Neighborhoods (Report)"
      ]
    },
    {
      "cell_type": "markdown",
      "metadata": {
        "id": "9hM58ANOep9B",
        "colab_type": "text"
      },
      "source": [
        "## Task: Finding a suitable location for a new fashin store in Paris"
      ]
    },
    {
      "cell_type": "markdown",
      "metadata": {
        "id": "cPL0RIoceyZM",
        "colab_type": "text"
      },
      "source": [
        "### 1 Introduction and Discussion of the Business Objective and Problem"
      ]
    },
    {
      "cell_type": "markdown",
      "metadata": {
        "id": "sA1HiZuufGLK",
        "colab_type": "text"
      },
      "source": [
        "**The Task At Hand**"
      ]
    },
    {
      "cell_type": "markdown",
      "metadata": {
        "id": "RmBnP7E3e3gq",
        "colab_type": "text"
      },
      "source": [
        "A digitally native vertical fashion retailer, with a substantial e-commerce footprint, has begun the rollout of brick and mortar stores as part of their omnichannel retail strategy. After rolling out stores in a few select cities by guessing where the best locations were to open, as part of their store expansion for Paris they've decided to be more informed and selective, and take the time to do some research.\n",
        "\n",
        "I've been given the exciting task of assisting them to make data-driven decisions on the new locations that are most suitable for their new stores in Paris. This will be a major part of their decision-making process, the other being on the ground qualitative analysis of districts once this data and report are reviewed and studied.\n",
        "\n",
        "The fashion brand is not what is considered high-end, they are positioned in upper end of the fast fashion market. As such, they do not seek stores in the premium upmarket strips like Avenue Montaigne, but rather, in high traffic areas where consumers go for shopping, restaurants and entertainment. Foursquare data will be very helpful in making data-driven decisions about the best of those areas."
      ]
    },
    {
      "cell_type": "markdown",
      "metadata": {
        "id": "V70WqeS2fTy4",
        "colab_type": "text"
      },
      "source": [
        "**Criteria**"
      ]
    },
    {
      "cell_type": "markdown",
      "metadata": {
        "id": "3vQF5r1cfPFX",
        "colab_type": "text"
      },
      "source": [
        "Qualitative data from another retailer that they know, suggests that the best locations to open new fashion retail stores may not only be where other clothing is located. This data strongly suggests that the best places are in fact areas that are near French Restaurants, Cafés and Wine Bars. Parisians are very social people that frequent these place often, so opening new stores in these locations is becoming popular.\n",
        "\n",
        "The analysis and recommendations for new store locations will focus on general districts with these establishments, not on specific store addresses. Narrowing down the best district options derived from analysis allows for either further research to be conducted, advising agents of the chosen district, or on the ground searching for specific sites by the company's personnel."
      ]
    },
    {
      "cell_type": "markdown",
      "metadata": {
        "id": "5OVlZ4mRffPs",
        "colab_type": "text"
      },
      "source": [
        "**Why Data?**"
      ]
    },
    {
      "cell_type": "markdown",
      "metadata": {
        "id": "oRD6Vjh3fZzs",
        "colab_type": "text"
      },
      "source": [
        "Without leveraging data to make decisions about new store locations, the company could spend countless hours walking around districts, consulting many real estate agents with their own district biases, and end up opening in yet another location that is not ideal.\n",
        "\n",
        "Data will provide better answers and better solutions to their task at hand."
      ]
    },
    {
      "cell_type": "markdown",
      "metadata": {
        "id": "6xw0TBQwfmAx",
        "colab_type": "text"
      },
      "source": [
        "**Outcomes**"
      ]
    },
    {
      "cell_type": "markdown",
      "metadata": {
        "id": "-BONaxDmfcgL",
        "colab_type": "text"
      },
      "source": [
        "The goal is to identify the best districts - Arrondissements - to open new stores as part of the company's plan. The results will be translated to management in a simple form that will convey the data-driven analysis for the best locations to open stores."
      ]
    },
    {
      "cell_type": "markdown",
      "metadata": {
        "id": "ZFtl9WgGfvp4",
        "colab_type": "text"
      },
      "source": [
        "### 2 The Data Science Workflow"
      ]
    },
    {
      "cell_type": "markdown",
      "metadata": {
        "id": "MQFOlRFof7WC",
        "colab_type": "text"
      },
      "source": [
        "**Data Requirements**"
      ]
    },
    {
      "cell_type": "markdown",
      "metadata": {
        "id": "kHCjXOwef2HK",
        "colab_type": "text"
      },
      "source": [
        "The main districts in Paris are divided into 20 Arrondissements Municipaux (administrative districts), shortened to arrondissements.\n",
        "\n",
        "The data regarding the districts in Paris needs to be researched and a suitable useable source identified. If it is found but is not in a useable form, data wrangling and cleaning will have to be performed.\n",
        "\n",
        "The cleansed data will then be used alongside Foursquare data, which is readily available. Foursquare location data will be leveraged to explore or compare districts around Paris, identifying the high traffic areas where consumers go for shopping, dining and entertainment - the areas where the fashion brand are most interested in opening new stores."
      ]
    },
    {
      "cell_type": "markdown",
      "metadata": {
        "id": "M07RI3Gqik5O",
        "colab_type": "text"
      },
      "source": [
        "### 3 Methodology and Exploratory Data Analysis"
      ]
    },
    {
      "cell_type": "markdown",
      "metadata": {
        "id": "x4k5ws8XgHYq",
        "colab_type": "text"
      },
      "source": [
        "**The Data Science Workflow for Part 1 & 2 includes the following:**\n",
        "\n",
        "* Outline the initial data that is required:\n",
        "     - District data for Paris including names, location data if available, and any other details required.\n",
        "\n",
        "* Obtain the Data:\n",
        "  - Research and find suitable sources for the district data for Paris.\n",
        "  - Access and explore the data to determine if it can be manipulated for our purposes.\n",
        "* Initial Data Wrangling and Cleaning:\n",
        "  - Clean the data and convert to a useable form as a dataframe."
      ]
    },
    {
      "cell_type": "markdown",
      "metadata": {
        "id": "--N7uGfChBLD",
        "colab_type": "text"
      },
      "source": [
        "**The Data Science Workflow for parts 3 & 4 includes:**\n",
        "\n",
        "* Data Analysis and Location Data:\n",
        "  - Foursquare location data will be leveraged to explore or compare districts around Paris.\n",
        "  - Data manipulation and analysis to derive subsets of the initial data\n",
        "  - Identifying the high traffic areas using data visualisation and tatistical nalysis.\n",
        "\n",
        "* Visualization:\n",
        "  - Analysis and plotting visualizations.\n",
        "  - Data visualization using various mapping libraries.\n",
        "* Discussion and Conclusions:\n",
        "  - Recomendations and results based on the data analysis.\n",
        "  - Discussion of any limitations and how the results can be used, and any conclusions that can be drawn."
      ]
    },
    {
      "cell_type": "markdown",
      "metadata": {
        "id": "qqtO4euCi2ii",
        "colab_type": "text"
      },
      "source": [
        "### 4 Results"
      ]
    },
    {
      "cell_type": "markdown",
      "metadata": {
        "id": "AvSkc22Hi1EB",
        "colab_type": "text"
      },
      "source": [
        "Observations\n",
        "I guess it's not a surprise that these districts are all very centrally located in the circular arrangement of Paris's arrondissements. Locations fitting the criteria for popular venues would normally be in central locations in many cities of the world.\n",
        "\n",
        "From this visualisation it is clear that on a practical level, with no data to base decisions on, the circle of the 20 districs is very large, and researching and then visiting them all would be a daunting and time consuming task. We have narrowed the search area down significantly from 20 potential districts to 3 that should suit the client's retail business."
      ]
    },
    {
      "cell_type": "markdown",
      "metadata": {
        "id": "hGVz5uXdjExi",
        "colab_type": "text"
      },
      "source": [
        "## 5 Discussion"
      ]
    },
    {
      "cell_type": "markdown",
      "metadata": {
        "id": "GdH-ZFsOjMlS",
        "colab_type": "text"
      },
      "source": [
        "We have made inferences from the data in making the location recommendations, but that is exactly the point. There is no right or wrong answer or conclusion for the task at hand. The job of data analysis here is to steer a course for the location selection of new stores (i) to meet the criteria of being in neighbourhoods that are lively with abundant leisure venues, and (ii) to narrow the search down to just a few of the main areas that are best suited to match the criteria."
      ]
    },
    {
      "cell_type": "markdown",
      "metadata": {
        "id": "o65YvL_sjRUp",
        "colab_type": "text"
      },
      "source": [
        "## 6 Conclusions"
      ]
    },
    {
      "cell_type": "markdown",
      "metadata": {
        "id": "Xu0Hhy4vjYV3",
        "colab_type": "text"
      },
      "source": [
        "There are many ways this analysis could have been performed based on different methodolgy and perhaps different data sources. I chose the method I selected as it was a straight forward way to narrow down the options, not complicating what is actually simple in many ways – meeting the the critera for the surrounding venues, and in my case, domain knowledge I have on the subject. I originally intended to use the clustering algorythms to cluster the data, but as it progressed it became obvious that this only complicated the task at hand. The analysis and results are not an end point, but rather a starting point that will guide the next part of the process to find specific store locations. The next part will involve domain knowledge of the industry, and perhaps, of the city itself. But the data analysis and resulting recommendations have greatly narrowed down the best district options based on data and what we can infer from it.\n",
        "\n",
        "Without leveraging data to make focussed decisions, the process could have been drawn out and resulted in new stores opening in sub-standard areas for this retailer. Data has helped to provide a better strategy and way forward, these data-driven decisions will lead to a better solution in the end."
      ]
    }
  ]
}